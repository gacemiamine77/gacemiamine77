{
  "nbformat": 4,
  "nbformat_minor": 0,
  "metadata": {
    "colab": {
      "name": "Untitled1.ipynb",
      "provenance": [],
      "mount_file_id": "1u46Nr5MB1XHMCGTYx6SUIQnKTbHKnZfM",
      "authorship_tag": "ABX9TyMAxd2b1uO4NybzN9CaVuYB",
      "include_colab_link": true
    },
    "kernelspec": {
      "name": "python3",
      "display_name": "Python 3"
    },
    "language_info": {
      "name": "python"
    }
  },
  "cells": [
    {
      "cell_type": "markdown",
      "metadata": {
        "id": "view-in-github",
        "colab_type": "text"
      },
      "source": [
        "<a href=\"https://colab.research.google.com/github/gacemiamine77/gacemiamine77/blob/main/ClipRaster.ipynb\" target=\"_parent\"><img src=\"https://colab.research.google.com/assets/colab-badge.svg\" alt=\"Open In Colab\"/></a>"
      ]
    },
    {
      "cell_type": "code",
      "execution_count": null,
      "metadata": {
        "colab": {
          "base_uri": "https://localhost:8080/"
        },
        "id": "TKageUJgHCJM",
        "outputId": "331ee83b-0d7b-46cc-bad0-6986c0c9789f"
      },
      "outputs": [
        {
          "output_type": "stream",
          "name": "stdout",
          "text": [
            "Drive already mounted at /content/drive; to attempt to forcibly remount, call drive.mount(\"/content/drive\", force_remount=True).\n",
            "[[255 255 255 ... 255 255 255]\n",
            " [255 255 255 ... 255 255 255]\n",
            " [255 255 255 ... 255 255 255]\n",
            " ...\n",
            " [255 255 255 ... 255 255 255]\n",
            " [255 255 255 ... 255 255 255]\n",
            " [255 255 255 ... 255 255 255]]\n"
          ]
        }
      ],
      "source": [
        "import geopandas as gpd\n",
        "import rasterio\n",
        "from rasterio.mask import mask\n",
        "from rasterio.plot import show\n",
        "from shapely.geometry import mapping\n",
        "import matplotlib.pyplot as plt\n",
        "import numpy as np\n",
        "\n",
        "#------------beginning clipping function-------------------------------#\n",
        "#This function clip raster Tif by a shapefile , it have three parameters\n",
        "# RasterIn: the Geotiff to Clip\n",
        "# shpClip the shapefile for clipping (.shp)\n",
        "#RasterOut:  the clipped Geotiff as Result \n",
        "\n",
        "def clipRaster(RasterIn, ShpClip,RasterOut):\n",
        "        df = gpd.read_file(ShpClip)\n",
        "        #next line : if you want to filter a shapefile elsewere you comment it\n",
        "        df = df.loc[df['id']!=0]\n",
        "        print(df)\n",
        "        inras =RasterIn \n",
        "        src  = rasterio.open(inras)\n",
        "        def getFeatures(gdf):\n",
        "            \"\"\"Function to parse features from GeoDataFrame in such a manner that rasterio wants them\"\"\"\n",
        "            import json\n",
        "            return [json.loads(gdf.to_json())['features'][0]['geometry']]\n",
        "        coords = getFeatures(df)\n",
        "        clipped_array, clipped_transform = mask(dataset=src, shapes=coords, crop=True)\n",
        "        \n",
        "        df = df.to_crs(src.crs)\n",
        "        out_meta = src.meta.copy()\n",
        "        out_meta.update({\"driver\": \"GTiff\",\n",
        "                 \"height\": clipped_array.shape[1],\n",
        "                 \"width\": clipped_array.shape[2],\n",
        "                 \"transform\": clipped_transform})\n",
        "        out_tif=RasterOut\n",
        "        with rasterio.open(out_tif, \"w\", **out_meta) as dest:\n",
        "            dest.write(clipped_array)\n",
        "    \n",
        "        clipped = rasterio.open(out_tif)\n",
        "        #uncomment the next lines if you want to plotthe geotiff\n",
        "        #fig, ax = plt.subplots(figsize=(8, 6))\n",
        "        #p1 = df.plot(color=None,facecolor='none',edgecolor='red',linewidth = 2,ax=ax)\n",
        "        #show(clipped, ax=ax)\n",
        "        #ax.axis('off');\n",
        "\n",
        "\n",
        "#------------end clipping function-------------------------------#\n",
        "\n",
        "#------------Begining NDVI function-------------------------------#\n",
        "# caclulate NDVi function with three parameters\n",
        "#IR for the path of the InfraRed Band\n",
        "#Red for the path of the Red Band\n",
        "# NDVI_Out for the path of the ndvi result\n",
        "def calcNDVI(IR,Red,NDVI_Out):\n",
        "        f_IR=rasterio.open(IR) \n",
        "        f_Red=rasterio.open(Red) \n",
        "        B_IR=f_IR.read(1)\n",
        "        B_Red=f_Red.read(1)\n",
        "        \n",
        "        \n",
        "        #print(ImageSat_img.shape)\n",
        "        nir=B_IR.astype('f4')\n",
        "        red=B_Red.astype('f4')\n",
        "        #np.seterr(divide='ignore', invalid='ignore')\n",
        "        print(B_IR)\n",
        "        ndvi = (nir - red) / (nir + red)\n",
        "        #print(ndvi)\n",
        "        # uncomment the next line if you want to plot the ndvi\n",
        "        #plt.imshow(ndvi, cmap='terrain_r')\n",
        "        out_meta = f_IR.meta.copy()\n",
        "        with rasterio.open(NDVI_Out, \"w\", **out_meta) as dest:\n",
        "            dest.write(ndvi,indexes=1)\n",
        "#------------end ndvi function-------------------------------#                \n",
        "\n",
        "#----------Main Program--------------------------------------------\n",
        "from google.colab import drive\n",
        "drive.mount('/content/drive')                \n",
        "#clipRaster('c:/upwork/toufik/acidity_test1.tif','c:/upwork/toufik/limit_domaine.shp', \"c:/upwork/toufik/clipped_exampless.tif\")    \n",
        "\n",
        "calcNDVI(\"/content/drive/MyDrive/upwork/IR.tif\",\"/content/drive/MyDrive/upwork/Red.tif\",\"/content/drive/MyDrive/upwork/NDVI_colab.tif\")    "
      ]
    }
  ]
}