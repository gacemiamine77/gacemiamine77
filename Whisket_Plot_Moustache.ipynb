{
  "nbformat": 4,
  "nbformat_minor": 0,
  "metadata": {
    "colab": {
      "name": "Untitled6.ipynb",
      "provenance": [],
      "mount_file_id": "1_cb9fMx6yB7mHmxYouCeLUiOIo_lloa8",
      "authorship_tag": "ABX9TyNnw97Z8E7QqhWAWSpTBydG",
      "include_colab_link": true
    },
    "kernelspec": {
      "name": "python3",
      "display_name": "Python 3"
    },
    "language_info": {
      "name": "python"
    }
  },
  "cells": [
    {
      "cell_type": "markdown",
      "metadata": {
        "id": "view-in-github",
        "colab_type": "text"
      },
      "source": [
        "<a href=\"https://colab.research.google.com/github/gacemiamine77/gacemiamine77/blob/main/Whisket_Plot_Moustache.ipynb\" target=\"_parent\"><img src=\"https://colab.research.google.com/assets/colab-badge.svg\" alt=\"Open In Colab\"/></a>"
      ]
    },
    {
      "cell_type": "code",
      "execution_count": 38,
      "metadata": {
        "colab": {
          "base_uri": "https://localhost:8080/",
          "height": 366
        },
        "id": "Z4l7qWEWBjTG",
        "outputId": "05ffb6e7-d1c6-49a0-c2f1-822436e8d071"
      },
      "outputs": [
        {
          "output_type": "stream",
          "name": "stdout",
          "text": [
            "['2021-01', '2021-02', '2021-03', '2021-04', '2021-05', '2021-06', '2021-07', '2021-08', '2021-09', '2021-10', '2021-11', '2021-12']\n"
          ]
        },
        {
          "output_type": "stream",
          "name": "stderr",
          "text": [
            "/usr/local/lib/python3.7/dist-packages/matplotlib/cbook/__init__.py:1376: VisibleDeprecationWarning: Creating an ndarray from ragged nested sequences (which is a list-or-tuple of lists-or-tuples-or ndarrays with different lengths or shapes) is deprecated. If you meant to do this, you must specify 'dtype=object' when creating the ndarray.\n",
            "  X = np.atleast_1d(X.T if isinstance(X, np.ndarray) else np.asarray(X))\n"
          ]
        },
        {
          "output_type": "display_data",
          "data": {
            "text/plain": [
              "<Figure size 1080x360 with 1 Axes>"
            ],
            "image/png": "[encoded data removed]"
          },
          "metadata": {
            "needs_background": "light"
          }
        }
      ],
      "source": [
        "import numpy as np\n",
        "import pandas as pd\n",
        "import matplotlib.dates as mdates\n",
        "import matplotlib\n",
        "import matplotlib.pyplot as plt\n",
        "from colour import Color\n",
        "\n",
        "#dfxl = pd.read_excel('c:/upwork/mafe4/ForGraphs.xlsx')\n",
        "dfxl = pd.read_excel('/content/drive/MyDrive/ForGraphs.xlsx')\n",
        "start_month=1\n",
        "end_month=12\n",
        "year=2021\n",
        "\n",
        "mean_variable='Mean_var1'\n",
        "dfs=pd.DataFrame(dfxl, columns=[ 'Date',mean_variable])\n",
        "\n",
        "List_date=[]\n",
        "for y in range(year,year+1):\n",
        "    for m in range(start_month,end_month+1):\n",
        "        p=(f'{y}-{m:02d}')\n",
        "        List_date.append(p)\n",
        "print(List_date)\n",
        "dates = pd.to_datetime(List_date)\n",
        "#po=mpl.dates.date2num(List_date)\n",
        "dat = matplotlib.dates.date2num(dates)\n",
        "dtot1=[]\n",
        "\n",
        "#dates = pd.to_datetime(List_date)\n",
        "#dfs.Date = pd.to_datetime(dfs.Date)\n",
        "\n",
        "for month in range(start_month,end_month+1):\n",
        "    df_meanvar=dfs[((dfs.Date.dt.month == month) & (dfs.Date.dt.year == year))][mean_variable]\n",
        "    dtot1.append(df_meanvar.to_numpy())\n",
        "   \n",
        "fig, ax1 = plt.subplots(nrows=1, ncols=1, figsize=(15, 5))\n",
        "P=ax1.boxplot(dtot1,notch=True,positions=dat, patch_artist=True, widths=8, )\n",
        "\n",
        "# uncommethis line if you want to customize color \"\n",
        "# colors = ['#0000FF', '#00FF00', '#FFFF00', '#FF00FF'] \n",
        "  \n",
        "#  this line if you want to use gradient color (from the blue to red \"\n",
        "red = Color(\"blue\")\n",
        "colors = list(red.range_to(Color(\"red\"),end_month-start_month+1))\n",
        "\n",
        "\n",
        "for patch, color in zip(P['boxes'], colors): \n",
        "    patch.set_facecolor(color.get_hex()) \n",
        "\n",
        "locator = mdates.AutoDateLocator(minticks=2, maxticks=15)\n",
        "formatter = mdates.DateFormatter('%Y-%b')\n",
        "ax1.xaxis.set_major_locator(locator)\n",
        "ax1.xaxis.set_major_formatter(formatter)\n",
        "for label in ax1.get_xticklabels(which='major'):\n",
        "    label.set(rotation=30, horizontalalignment='right')\n",
        "ax1.set_title(\"variable:\"+mean_variable+\" year : \"+str(year))\n",
        "fig.savefig(\"/content/drive/MyDrive/\"+str(year)+'_'+mean_variable+\"_Boxplot.png\")\n"
      ]
    },
    {
      "cell_type": "code",
      "source": [
        "pip install colour"
      ],
      "metadata": {
        "colab": {
          "base_uri": "https://localhost:8080/"
        },
        "id": "zIidCLJaB2Kg",
        "outputId": "3168a7d9-356b-431c-f0ba-6dd11bd97879"
      },
      "execution_count": 2,
      "outputs": [
        {
          "output_type": "stream",
          "name": "stdout",
          "text": [
            "Looking in indexes: https://pypi.org/simple, https://us-python.pkg.dev/colab-wheels/public/simple/\n",
            "Collecting colour\n",
            "  Downloading colour-0.1.5-py2.py3-none-any.whl (23 kB)\n",
            "Installing collected packages: colour\n",
            "Successfully installed colour-0.1.5\n"
          ]
        }
      ]
    }
  ]
}