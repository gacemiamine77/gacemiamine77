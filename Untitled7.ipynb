{
  "nbformat": 4,
  "nbformat_minor": 0,
  "metadata": {
    "colab": {
      "name": "Untitled7.ipynb",
      "provenance": [],
      "mount_file_id": "1wNX86SosABmdcwy9YL5bM-Xg4XkKoGJ6",
      "authorship_tag": "ABX9TyMv4H2CEgg9QQ2KNHffPfyi",
      "include_colab_link": true
    },
    "kernelspec": {
      "name": "python3",
      "display_name": "Python 3"
    },
    "language_info": {
      "name": "python"
    }
  },
  "cells": [
    {
      "cell_type": "markdown",
      "metadata": {
        "id": "view-in-github",
        "colab_type": "text"
      },
      "source": [
        "<a href=\"https://colab.research.google.com/github/gacemiamine77/gacemiamine77/blob/main/Untitled7.ipynb\" target=\"_parent\"><img src=\"https://colab.research.google.com/assets/colab-badge.svg\" alt=\"Open In Colab\"/></a>"
      ]
    },
    {
      "cell_type": "code",
      "execution_count": 2,
      "metadata": {
        "colab": {
          "base_uri": "https://localhost:8080/"
        },
        "id": "Oq62hJjJclXm",
        "outputId": "38f59985-448f-43ac-843e-52a943354bbe"
      },
      "outputs": [
        {
          "output_type": "stream",
          "name": "stdout",
          "text": [
            "Looking in indexes: https://pypi.org/simple, https://us-python.pkg.dev/colab-wheels/public/simple/\n",
            "Collecting rasterio\n",
            "  Downloading rasterio-1.2.10-cp37-cp37m-manylinux1_x86_64.whl (19.3 MB)\n",
            "\u001b[K     |████████████████████████████████| 19.3 MB 1.2 MB/s \n",
            "\u001b[?25hCollecting cligj>=0.5\n",
            "  Downloading cligj-0.7.2-py3-none-any.whl (7.1 kB)\n",
            "Collecting snuggs>=1.4.1\n",
            "  Downloading snuggs-1.4.7-py3-none-any.whl (5.4 kB)\n",
            "Collecting affine\n",
            "  Downloading affine-2.3.1-py2.py3-none-any.whl (16 kB)\n",
            "Requirement already satisfied: setuptools in /usr/local/lib/python3.7/dist-packages (from rasterio) (57.4.0)\n",
            "Requirement already satisfied: certifi in /usr/local/lib/python3.7/dist-packages (from rasterio) (2022.5.18.1)\n",
            "Requirement already satisfied: attrs in /usr/local/lib/python3.7/dist-packages (from rasterio) (21.4.0)\n",
            "Collecting click-plugins\n",
            "  Downloading click_plugins-1.1.1-py2.py3-none-any.whl (7.5 kB)\n",
            "Requirement already satisfied: click>=4.0 in /usr/local/lib/python3.7/dist-packages (from rasterio) (7.1.2)\n",
            "Requirement already satisfied: numpy in /usr/local/lib/python3.7/dist-packages (from rasterio) (1.21.6)\n",
            "Requirement already satisfied: pyparsing>=2.1.6 in /usr/local/lib/python3.7/dist-packages (from snuggs>=1.4.1->rasterio) (3.0.9)\n",
            "Installing collected packages: snuggs, cligj, click-plugins, affine, rasterio\n",
            "Successfully installed affine-2.3.1 click-plugins-1.1.1 cligj-0.7.2 rasterio-1.2.10 snuggs-1.4.7\n"
          ]
        }
      ],
      "source": [
        "pip install rasterio"
      ]
    },
    {
      "cell_type": "code",
      "source": [
        "# -*- coding: utf-8 -*-\n",
        "\"\"\"\n",
        "Created on Tue Apr 26 11:05:32 2022\n",
        "\n",
        "@author: Amine\n",
        "\"\"\"\n",
        "\n",
        "#import required libraries\n",
        "import matplotlib.pyplot as plt\n",
        "import geopandas as gpd\n",
        "import rasterio\n",
        "from rasterio.plot import show\n",
        "print(\"ok\")\n",
        "pointData = gpd.read_file('c:/mitage/points.shp')\n",
        "print(pointData.crs)\n",
        "pointData.plot()\n",
        "\n",
        "ndviRaster = rasterio.open('c:/mitage/mnt.tif')\n",
        "print(ndviRaster.crs)\n",
        "print(ndviRaster.count)\n",
        "\n",
        "fig, ax = plt.subplots(figsize=(12,12))\n",
        "pointData.plot(ax=ax, color='orangered')\n",
        "show(ndviRaster, ax=ax)\n",
        "\n",
        "for point in pointData['geometry']:\n",
        "    print(point.xy[0][0],point.xy[1][0])\n",
        "    \n",
        "for point in pointData['geometry']:\n",
        "    x = point.xy[0][0]\n",
        "    y = point.xy[1][0]\n",
        "    row, col = ndviRaster.index(x,y)\n",
        "    print(\"Point correspond to row, col: %d, %d\"%(row,col))\n",
        "    print(\"Raster value on point %.2f \\n\"%ndviRaster.read(1)[row,col])"
      ],
      "metadata": {
        "id": "Jau1_eU7cnGM"
      },
      "execution_count": null,
      "outputs": []
    }
  ]
}